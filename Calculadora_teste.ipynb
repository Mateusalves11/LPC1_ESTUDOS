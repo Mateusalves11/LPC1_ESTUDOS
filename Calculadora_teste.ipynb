{
  "nbformat": 4,
  "nbformat_minor": 0,
  "metadata": {
    "colab": {
      "name": "Calculadora teste",
      "provenance": [],
      "collapsed_sections": [],
      "authorship_tag": "ABX9TyNCN/l/H4KW0JfG3kXUyc7d",
      "include_colab_link": true
    },
    "kernelspec": {
      "name": "python3",
      "display_name": "Python 3"
    },
    "language_info": {
      "name": "python"
    }
  },
  "cells": [
    {
      "cell_type": "markdown",
      "metadata": {
        "id": "view-in-github",
        "colab_type": "text"
      },
      "source": [
        "<a href=\"https://colab.research.google.com/github/Mateusalves11/LPC1_ESTUDOS/blob/main/Calculadora_teste.ipynb\" target=\"_parent\"><img src=\"https://colab.research.google.com/assets/colab-badge.svg\" alt=\"Open In Colab\"/></a>"
      ]
    },
    {
      "cell_type": "code",
      "execution_count": null,
      "metadata": {
        "colab": {
          "base_uri": "https://localhost:8080/"
        },
        "id": "aShlIX7hGMbt",
        "outputId": "a697a7c9-277e-4579-fc2a-eb1e058296b2"
      },
      "outputs": [
        {
          "output_type": "stream",
          "name": "stdout",
          "text": [
            "Calculadora:\n"
          ]
        }
      ],
      "source": [
        "print ('Calculadora:')\n",
        "a = int(input ('escolha um numero'))\n",
        "b = int(input ('escolha o segundo numero'))\n",
        "print('Agora escolha uma das alternativas')\n",
        "print ('Somar - a')\n",
        "print ('Dividir - b')\n",
        "print ('Subtrair - c')\n",
        "print ('multiplicar - d')\n",
        "x = str(input(''))\n",
        "\n",
        "if (x=='a'):\n",
        "    print (a+b)\n",
        "\n",
        "if (x=='b'):\n",
        "    print (a/b)\n",
        "\n",
        "if (x=='c'):\n",
        "    print (a-b)\n",
        "\n",
        "if (x=='d'):\n",
        "    print (a*b)    \n",
        "  \n"
      ]
    }
  ]
}