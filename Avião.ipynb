{
  "nbformat": 4,
  "nbformat_minor": 0,
  "metadata": {
    "colab": {
      "name": "Avião.ipynb",
      "provenance": [],
      "collapsed_sections": [],
      "authorship_tag": "ABX9TyPAuZsIlNtzYTkHPDgjTlBj",
      "include_colab_link": true
    },
    "kernelspec": {
      "name": "python3",
      "display_name": "Python 3"
    },
    "language_info": {
      "name": "python"
    }
  },
  "cells": [
    {
      "cell_type": "markdown",
      "metadata": {
        "id": "view-in-github",
        "colab_type": "text"
      },
      "source": [
        "<a href=\"https://colab.research.google.com/github/Mateusalves11/LPC1_ESTUDOS/blob/main/Avi%C3%A3o.ipynb\" target=\"_parent\"><img src=\"https://colab.research.google.com/assets/colab-badge.svg\" alt=\"Open In Colab\"/></a>"
      ]
    },
    {
      "cell_type": "code",
      "execution_count": null,
      "metadata": {
        "colab": {
          "base_uri": "https://localhost:8080/"
        },
        "id": "qluDZcHqooD9",
        "outputId": "fdc695d3-7c58-45ce-f303-498b940762c2"
      },
      "outputs": [
        {
          "output_type": "stream",
          "name": "stdout",
          "text": [
            "Olá iremos iniciar o vôo da nossa aeronave\n",
            "digite corretamente a sequencia para o que o avião chegue ao destino\n",
            "1 Acelerar\n",
            "2 Decolar\n",
            "3 Planar\n",
            "4 Função Piloto Automático\n",
            "5 Pousar.\n",
            "escolha um numero  1\n",
            "Acelerando...\n",
            "escolha um numero  2\n",
            "Decolando...\n",
            "escolha um numero  5\n",
            "Errou\n"
          ]
        }
      ],
      "source": [
        "print ('Olá iremos iniciar o vôo da nossa aeronave')\n",
        "print ('digite corretamente a sequencia para o que o avião chegue ao destino')\n",
        "print ( '1 Acelerar')\n",
        "print ( '2 Decolar')\n",
        "print ('3 Planar')\n",
        "print ('4 Função Piloto Automático')\n",
        "print ('5 Pousar.')\n",
        "\n",
        "    \n",
        "comando = int (input('escolha um numero  '))\n",
        "if (comando==1):\n",
        "    print ('Acelerando...') \n",
        "\n",
        "else:\n",
        "    print ('Errou')\n",
        "  \n",
        "\n",
        "comando2 = int (input('escolha um numero  '))\n",
        "if (comando2==2):\n",
        "    print ('Decolando...') \n",
        "\n",
        "else :\n",
        "    print ('Errou')\n",
        "\n",
        "comando3 = int (input('escolha um numero  '))\n",
        "if (comando3==3):\n",
        "    print ('planando...') \n",
        "\n",
        "else :\n",
        "    print ('Errou')\n",
        "\n",
        "comando4 = int (input('escolha um numero  '))\n",
        "if (comando4==4):\n",
        "    print ('Pilotando...') \n",
        "\n",
        "else :\n",
        "    print ('Errou')\n",
        "\n",
        "comando5 = int (input('escolha um numero  '))\n",
        "if (comando5==5):\n",
        "    print ('pousando...') \n",
        "\n",
        "else :\n",
        "    print ('Errou')\n",
        "\n",
        "print ('Parabens, você conseguiu!!')"
      ]
    }
  ]
}