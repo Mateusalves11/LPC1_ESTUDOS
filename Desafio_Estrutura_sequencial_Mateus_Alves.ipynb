{
  "nbformat": 4,
  "nbformat_minor": 0,
  "metadata": {
    "colab": {
      "name": "Desafio Estrutura sequencial - Mateus Alves.ipynb",
      "provenance": [],
      "authorship_tag": "ABX9TyN7DaELT6Eg0o8AfN13a+rJ",
      "include_colab_link": true
    },
    "kernelspec": {
      "name": "python3",
      "display_name": "Python 3"
    },
    "language_info": {
      "name": "python"
    }
  },
  "cells": [
    {
      "cell_type": "markdown",
      "metadata": {
        "id": "view-in-github",
        "colab_type": "text"
      },
      "source": [
        "<a href=\"https://colab.research.google.com/github/Mateusalves11/LPC1_ESTUDOS/blob/main/Desafio_Estrutura_sequencial_Mateus_Alves.ipynb\" target=\"_parent\"><img src=\"https://colab.research.google.com/assets/colab-badge.svg\" alt=\"Open In Colab\"/></a>"
      ]
    },
    {
      "cell_type": "code",
      "source": [
        "#Exercício 1\n",
        "print ('alo ETE PORTO DIGITAL')"
      ],
      "metadata": {
        "colab": {
          "base_uri": "https://localhost:8080/"
        },
        "id": "s_29IoFnrQ6n",
        "outputId": "05eb5681-3404-40bd-d662-eb315e136ed7"
      },
      "execution_count": null,
      "outputs": [
        {
          "output_type": "stream",
          "name": "stdout",
          "text": [
            "alo ETE PORTO DIGITAL\n"
          ]
        }
      ]
    },
    {
      "cell_type": "code",
      "source": [
        "\n",
        "#Exercicio 2\n",
        "msg = input('Digite um número: ')\n",
        "print ('O numero escolhido foi: ' + msg)"
      ],
      "metadata": {
        "colab": {
          "base_uri": "https://localhost:8080/"
        },
        "id": "tnYmcwX3rSRO",
        "outputId": "66ca15bf-b7de-4e1d-96e3-5039ada098a5"
      },
      "execution_count": null,
      "outputs": [
        {
          "output_type": "stream",
          "name": "stdout",
          "text": [
            "Digite um número: 7.6\n",
            "O numero escolhido foi: 7.6\n"
          ]
        }
      ]
    },
    {
      "cell_type": "code",
      "source": [
        "#Exercicio 3\n",
        "num1 = float(input ('Digite o primeiro numero'))\n",
        "num2 = float(input ('Digite o segundo numero'))\n",
        "soma = (num1+num2)\n",
        "print ('A soma dos dois números é: ' + str(soma))"
      ],
      "metadata": {
        "colab": {
          "base_uri": "https://localhost:8080/"
        },
        "id": "Ne46fEilrSoU",
        "outputId": "03e123ee-e395-4de9-845a-ba4303a6d2a0"
      },
      "execution_count": null,
      "outputs": [
        {
          "output_type": "stream",
          "name": "stdout",
          "text": [
            "Digite o primeiro numero12\n",
            "Digite o segundo numero12\n",
            "A soma dos dois números é: 24.0\n"
          ]
        }
      ]
    },
    {
      "cell_type": "code",
      "source": [
        "#exercicio 4\n",
        "nota1 = float (input ('digite a primeira nota: '))\n",
        "nota2 = float (input ('digite a segundo nota: '))\n",
        "nota3 = float (input ('digite a terceiro nota: '))\n",
        "nota4 = float (input ('digite a quarta nota: '))\n",
        "media = ((nota1+ nota2+nota3+nota4)/4)\n",
        "print ('A media das notas é: ' + str(media))"
      ],
      "metadata": {
        "id": "9qNkRL9nrSwq",
        "colab": {
          "base_uri": "https://localhost:8080/"
        },
        "outputId": "41a59df3-7b5f-4fe8-83ca-b8c2cb308d7b"
      },
      "execution_count": null,
      "outputs": [
        {
          "name": "stdout",
          "output_type": "stream",
          "text": [
            "digite a primeira nota: 7\n",
            "digite a segundo nota: 7\n",
            "digite a terceiro nota: 7\n"
          ]
        }
      ]
    },
    {
      "cell_type": "code",
      "source": [
        "#exercicio 5\n",
        "num1 = float(input('Escolha o numero em metros: '))\n",
        "cm = (num1*100)\n",
        "print ('o numero em centimetros é: ' + str(cm))"
      ],
      "metadata": {
        "id": "i3nRJBcjrS5c",
        "colab": {
          "base_uri": "https://localhost:8080/"
        },
        "outputId": "5c383110-2749-4eab-cc41-c653607c6581"
      },
      "execution_count": null,
      "outputs": [
        {
          "output_type": "stream",
          "name": "stdout",
          "text": [
            "Escolha o numero em metros: 15\n",
            "o numero em centimetros é: 1500.0\n"
          ]
        }
      ]
    },
    {
      "cell_type": "code",
      "source": [
        "#exercicio 6\n",
        "raio = float(input('Qual o tamanho do raio?: '))\n",
        "area = ((raio**2)*3.14)\n",
        "print ('a area é: ' + str(area)+ 'mm')\n"
      ],
      "metadata": {
        "id": "5qio3dj5rTCB",
        "colab": {
          "base_uri": "https://localhost:8080/"
        },
        "outputId": "e0be7578-4cb0-43db-938d-e253a3f3ab4a"
      },
      "execution_count": null,
      "outputs": [
        {
          "output_type": "stream",
          "name": "stdout",
          "text": [
            "Qual o tamanho do raio?: 8\n",
            "a area é: 200.96mm\n"
          ]
        }
      ]
    },
    {
      "cell_type": "code",
      "source": [
        "#execicio 7\n",
        "b = float(input('qual a base do quadrado?: '))\n",
        "h = float(input('qual a altura do quadrado?: '))\n",
        "area = (b*h)\n",
        "area2 = (area*2)\n",
        "print ('a area do quadrado é: '+ str(area))\n",
        "print ('o dobro da area é: '+ str(area2))"
      ],
      "metadata": {
        "colab": {
          "base_uri": "https://localhost:8080/"
        },
        "id": "10RlxEFyiHID",
        "outputId": "9c073ae2-ebcb-43cf-e9c7-7eda6c878189"
      },
      "execution_count": null,
      "outputs": [
        {
          "output_type": "stream",
          "name": "stdout",
          "text": [
            "qual a base do quadrado?: 2\n",
            "qual a altura do quadrado?: 2\n",
            "a area do quadrado é: 4.0\n",
            "o dobro da area é: 8.0\n"
          ]
        }
      ]
    },
    {
      "cell_type": "code",
      "source": [
        "#exercicio 8\n",
        "hora = float(input('quanto você ganha por hora?: '))\n",
        "hora2 = float(input('quantas horas trabalha por mês?: '))\n",
        "salario = (hora*hora2)\n",
        "print ('você ganha R$'+str(salario)+' por mês')\n",
        "\n"
      ],
      "metadata": {
        "colab": {
          "base_uri": "https://localhost:8080/"
        },
        "id": "nVKnr58ejVB7",
        "outputId": "d7822be9-b29e-458d-8ce2-73f32fe4d66f"
      },
      "execution_count": null,
      "outputs": [
        {
          "output_type": "stream",
          "name": "stdout",
          "text": [
            "quanto você ganha por hora?: 8\n",
            "quantas horas trabalha por mês?: 520\n",
            "você ganha R$4160.0 por mês\n"
          ]
        }
      ]
    },
    {
      "cell_type": "code",
      "source": [
        " #exercicio 9\n",
        " F = float(input('diga a temperatura em fahrenheit: ')) \n",
        " C = (F-32)/1.8\n",
        " print ('A temperatura em celsius é: ' + str(C))"
      ],
      "metadata": {
        "colab": {
          "base_uri": "https://localhost:8080/"
        },
        "id": "7fP-UAUvkTcz",
        "outputId": "85cfa3ab-9595-4554-c918-fefd9903616f"
      },
      "execution_count": 7,
      "outputs": [
        {
          "output_type": "stream",
          "name": "stdout",
          "text": [
            "diga a temperatura em fahrenheit: 106\n",
            "A temperatura em celsius é: 41.11111111111111\n"
          ]
        }
      ]
    },
    {
      "cell_type": "code",
      "source": [
        "#exercicio 10\n",
        "C = float(input('diga a temperatura em celsius: ')) \n",
        " F = (C*1.8) + 32\n",
        " print ('A temperatura em fahrenheit é: ' + str(F))"
      ],
      "metadata": {
        "id": "1TWRGFLAlRmF"
      },
      "execution_count": null,
      "outputs": []
    },
    {
      "cell_type": "code",
      "source": [
        "#exercicio 11\n",
        "\n",
        "n1 = int(input('Digite o primeiro numero: \\n'))\n",
        "n2 = int(input('Digite o segundo numero: \\n'))\n",
        "nreal = float(input('Digite o numero Real: \\n'))\n",
        "\n",
        "r1 = n1*2*(n2 / 2)\n",
        "\n",
        "print ('o produto do dobro do primeiro com metade do segundo = ' + str(r1))\n",
        "\n",
        "r2 = n1 * 3 + nreal\n",
        "print ('a soma do triplo do primeiro com o terceiro = '+ str(r2))\n",
        "\n",
        "r3 = nreal ** 3\n",
        "print ('o terceiro elevado ao cubo= '+ str(r3))"
      ],
      "metadata": {
        "colab": {
          "base_uri": "https://localhost:8080/"
        },
        "id": "kjtv0nklt_qY",
        "outputId": "774b5d0d-323e-4dd3-d2d4-2ddde804aae7"
      },
      "execution_count": 26,
      "outputs": [
        {
          "output_type": "stream",
          "name": "stdout",
          "text": [
            "Digite o primeiro numero: \n",
            "12\n",
            "Digite o segundo numero: \n",
            "12\n",
            "Digite o numero Real: \n",
            "32\n",
            "o produto do dobro do primeiro com metade do segundo = 144.0\n",
            "a soma do triplo do primeiro com o terceiro = 68.0\n",
            "o terceiro elevado ao cubo32768.0\n"
          ]
        }
      ]
    },
    {
      "cell_type": "code",
      "source": [
        "#Exercicio 12 e 13\n",
        "altura = float(input('qual sua altura?: '))\n",
        "x = (72.7*altura)-58\n",
        "y = (62.1*altura)-44.7\n",
        "print ('se você for MULHER seu peso ideal é: ' + str(x))\n",
        "print ('se você for HOMEM seu peso ideal é: ' + str(y))"
      ],
      "metadata": {
        "colab": {
          "base_uri": "https://localhost:8080/"
        },
        "id": "Jqq_q3STyRtf",
        "outputId": "af10e526-a9ea-45f7-c65f-2754368e6caf"
      },
      "execution_count": 36,
      "outputs": [
        {
          "output_type": "stream",
          "name": "stdout",
          "text": [
            "qual sua altura?: 1.65\n",
            "se você for MULHER seu peso ideal é: 61.955\n",
            "se você for HOMEM seu peso ideal é: 57.765\n"
          ]
        }
      ]
    },
    {
      "cell_type": "code",
      "source": [
        "#exercicio 14\n",
        "peixes = int(input('quantos KG tem de peixes?: '))\n",
        "i = (peixes - 50)\n",
        "x = i*4\n",
        "if peixes > 50:\n",
        "  print('você pagará de multa: ' + str(x))\n",
        "else: \n",
        "  print('Você nao pagará multa')"
      ],
      "metadata": {
        "colab": {
          "base_uri": "https://localhost:8080/"
        },
        "id": "0ZJWx7otzlVm",
        "outputId": "ee215ae3-ed1f-4545-d739-ac44e9bddb07"
      },
      "execution_count": 40,
      "outputs": [
        {
          "output_type": "stream",
          "name": "stdout",
          "text": [
            "quantos KG tem de peixes?: 52\n",
            "você pagará de multa: 8\n"
          ]
        }
      ]
    },
    {
      "cell_type": "code",
      "source": [
        "#exercicio 15\n",
        "tamanho = float(input('Qual o tamnho do arquivo em MB?: '))\n",
        "vel = float(input('qual a velocidade da internet em mbps?: ' ))\n",
        "tempo = (tamanho * vel) / 60\n",
        "print ('levará:' + str(tempo) + ' minutos')"
      ],
      "metadata": {
        "colab": {
          "base_uri": "https://localhost:8080/"
        },
        "id": "3XOxmjs607OG",
        "outputId": "a753a3e9-94da-42c7-fd6b-741f9211be02"
      },
      "execution_count": 46,
      "outputs": [
        {
          "output_type": "stream",
          "name": "stdout",
          "text": [
            "Qual o tamnho do arquivo em MB?: 800\n",
            "qual a velocidade da internet em mbps?: 6\n",
            "levará:80.0 minutos\n"
          ]
        }
      ]
    }
  ]
}