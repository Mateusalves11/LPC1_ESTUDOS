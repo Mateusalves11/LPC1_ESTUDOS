{
  "nbformat": 4,
  "nbformat_minor": 0,
  "metadata": {
    "colab": {
      "name": "comando for.ipynb",
      "provenance": [],
      "collapsed_sections": [],
      "authorship_tag": "ABX9TyMmPaiEqq9SwH/4m17iJPem",
      "include_colab_link": true
    },
    "kernelspec": {
      "name": "python3",
      "display_name": "Python 3"
    },
    "language_info": {
      "name": "python"
    }
  },
  "cells": [
    {
      "cell_type": "markdown",
      "metadata": {
        "id": "view-in-github",
        "colab_type": "text"
      },
      "source": [
        "<a href=\"https://colab.research.google.com/github/Mateusalves11/LPC1_ESTUDOS/blob/main/comando_for.ipynb\" target=\"_parent\"><img src=\"https://colab.research.google.com/assets/colab-badge.svg\" alt=\"Open In Colab\"/></a>"
      ]
    },
    {
      "cell_type": "code",
      "execution_count": 2,
      "metadata": {
        "colab": {
          "base_uri": "https://localhost:8080/"
        },
        "id": "Ahxwfy9mSTqE",
        "outputId": "2e8de7d0-e3af-4196-9ecc-201e751a8c30"
      },
      "outputs": [
        {
          "output_type": "stream",
          "name": "stdout",
          "text": [
            "cafe\n",
            "arroz\n",
            "feijao\n"
          ]
        }
      ],
      "source": [
        "itens = ['cafe','arroz','feijao']\n",
        "for gaveta in itens:\n",
        "  print (gaveta)"
      ]
    }
  ]
}