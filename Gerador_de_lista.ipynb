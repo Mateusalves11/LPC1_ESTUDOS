{
  "nbformat": 4,
  "nbformat_minor": 0,
  "metadata": {
    "colab": {
      "name": "Gerador de lista.ipynb",
      "provenance": [],
      "collapsed_sections": [],
      "authorship_tag": "ABX9TyPOxzSMn+eFIgoklO3+omuk",
      "include_colab_link": true
    },
    "kernelspec": {
      "name": "python3",
      "display_name": "Python 3"
    },
    "language_info": {
      "name": "python"
    }
  },
  "cells": [
    {
      "cell_type": "markdown",
      "metadata": {
        "id": "view-in-github",
        "colab_type": "text"
      },
      "source": [
        "<a href=\"https://colab.research.google.com/github/Mateusalves11/LPC1_ESTUDOS/blob/main/Gerador_de_lista.ipynb\" target=\"_parent\"><img src=\"https://colab.research.google.com/assets/colab-badge.svg\" alt=\"Open In Colab\"/></a>"
      ]
    },
    {
      "cell_type": "code",
      "execution_count": 14,
      "metadata": {
        "colab": {
          "base_uri": "https://localhost:8080/"
        },
        "id": "Oy5fyTo_kyPA",
        "outputId": "793aa30f-f554-45ec-e8b0-bdaacce5d760"
      },
      "outputs": [
        {
          "output_type": "stream",
          "name": "stdout",
          "text": [
            "Digite um nome: sdfds\n",
            "idade: 12\n",
            "Digite um nome: fsdf\n",
            "idade: 43\n",
            "Digite um nome: sair\n",
            "idade: 2\n",
            "['sdfds', 'fsdf']\n",
            "[12, 43]\n"
          ]
        }
      ],
      "source": [
        "p = []\n",
        "i = []\n",
        "nomes = ''\n",
        "idade = ''\n",
        "while nomes != ('sair'):\n",
        "     nomes = input ('Digite um nome: ')\n",
        "     idade = int(input(\"idade: \"))\n",
        "     if nomes == ('sair'):\n",
        "       break\n",
        "     p.append(nomes)\n",
        "     i.append(idade)\n",
        "print (p )\n",
        "print (i)\n",
        "\n",
        "    "
      ]
    }
  ]
}